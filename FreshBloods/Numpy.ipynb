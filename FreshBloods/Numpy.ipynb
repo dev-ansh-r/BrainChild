{
  "nbformat": 4,
  "nbformat_minor": 0,
  "metadata": {
    "colab": {
      "provenance": []
    },
    "kernelspec": {
      "name": "python3",
      "display_name": "Python 3"
    },
    "language_info": {
      "name": "python"
    }
  },
  "cells": [
    {
      "cell_type": "markdown",
      "source": [
        "# Question to be solved\n",
        "\n",
        "1. Array Creation\n",
        "Create a 3x3 NumPy array with values ranging from 1 to 9. Then, reshape it into a 1D array.\n",
        "2. Array Indexing & Slicing\n",
        "Create a 5x5 matrix of integers ranging from 1 to 25. Extract a 3x3 submatrix from the center.\n",
        "3. Element-wise Operations\n",
        "Given two arrays A = np.array([1, 2, 3, 4]) and B = np.array([10, 20, 30, 40]), perform element-wise addition, multiplication, and division.\n",
        "4. Broadcasting\n",
        "Create a 4x4 matrix with all values as 1. Multiply it by a 1D array np.array([1, 2, 3, 4]) using broadcasting.\n",
        "5. Statistical Operations\n",
        "Generate a 1D array of 100 random numbers from a normal distribution. Find the mean, median, standard deviation, and variance of the array.\n",
        "6. Boolean Masking\n",
        "Create an array of integers from 1 to 20. Use boolean masking to extract all even numbers from the array.\n",
        "7. Array Manipulation\n",
        "Create a 1D array of numbers from 1 to 10. Insert the number 99 at index 5 and then delete the element at index 3.\n",
        "8. Matrix Operations\n",
        "Create two 3x3 matrices and compute their matrix multiplication using the @ operator and np.dot() function.\n",
        "9. Aggregations\n",
        "Create a 5x5 matrix filled with random values. Compute the sum of all elements, the sum of each row, and the sum of each column.\n",
        "10. Linear Algebra\n",
        "Create a 3x3 matrix and compute its inverse, determinant, and eigenvalues using NumPy’s linear algebra functions."
      ],
      "metadata": {
        "id": "UsTZC1VKQIgr"
      }
    },
    {
      "cell_type": "markdown",
      "source": [
        "# Answers"
      ],
      "metadata": {
        "id": "NvR6GsJ8QLdC"
      }
    },
    {
      "cell_type": "markdown",
      "source": [
        "## 1"
      ],
      "metadata": {
        "id": "fRlpx8Iv_RUZ"
      }
    },
    {
      "cell_type": "code",
      "execution_count": 1,
      "metadata": {
        "id": "VRisW6rh9LyS"
      },
      "outputs": [],
      "source": [
        "import numpy as np"
      ]
    },
    {
      "cell_type": "code",
      "source": [
        "a = np.random.randint(1,9,size=(3,3))\n",
        "a"
      ],
      "metadata": {
        "colab": {
          "base_uri": "https://localhost:8080/"
        },
        "id": "REKa4t189OnZ",
        "outputId": "2b8d25c0-f923-42fd-e285-c96bb891b278"
      },
      "execution_count": 19,
      "outputs": [
        {
          "output_type": "execute_result",
          "data": {
            "text/plain": [
              "array([[7, 8, 7],\n",
              "       [4, 7, 8],\n",
              "       [2, 2, 7]])"
            ]
          },
          "metadata": {},
          "execution_count": 19
        }
      ]
    },
    {
      "cell_type": "code",
      "source": [
        "a.reshape(1,9)"
      ],
      "metadata": {
        "colab": {
          "base_uri": "https://localhost:8080/"
        },
        "id": "DQmpmDp0_Dg_",
        "outputId": "fde2874e-396f-4d10-d850-29aac1d606b0"
      },
      "execution_count": 20,
      "outputs": [
        {
          "output_type": "execute_result",
          "data": {
            "text/plain": [
              "array([[7, 8, 7, 4, 7, 8, 2, 2, 7]])"
            ]
          },
          "metadata": {},
          "execution_count": 20
        }
      ]
    },
    {
      "cell_type": "markdown",
      "source": [
        "## 2"
      ],
      "metadata": {
        "id": "m85koETE_O2L"
      }
    },
    {
      "cell_type": "code",
      "source": [
        "a = np.random.randint(1,25,size=(5,5))\n",
        "a"
      ],
      "metadata": {
        "colab": {
          "base_uri": "https://localhost:8080/"
        },
        "id": "ewjPKvrC_Qbx",
        "outputId": "df888ce4-1bb6-49ff-b503-df51f384313c"
      },
      "execution_count": 22,
      "outputs": [
        {
          "output_type": "execute_result",
          "data": {
            "text/plain": [
              "array([[23, 22, 24,  8,  9],\n",
              "       [14, 11, 19, 15,  9],\n",
              "       [ 7, 14, 13, 23, 16],\n",
              "       [11, 10, 16, 23,  5],\n",
              "       [21, 11,  4, 21, 18]])"
            ]
          },
          "metadata": {},
          "execution_count": 22
        }
      ]
    },
    {
      "cell_type": "code",
      "source": [
        "b = a[1:4,1:4]\n",
        "b"
      ],
      "metadata": {
        "colab": {
          "base_uri": "https://localhost:8080/"
        },
        "id": "1Fr7S0J-_ca9",
        "outputId": "3af4d10c-d0a5-4ced-8145-db5cbf709716"
      },
      "execution_count": 27,
      "outputs": [
        {
          "output_type": "execute_result",
          "data": {
            "text/plain": [
              "array([[11, 19, 15],\n",
              "       [14, 13, 23],\n",
              "       [10, 16, 23]])"
            ]
          },
          "metadata": {},
          "execution_count": 27
        }
      ]
    },
    {
      "cell_type": "code",
      "source": [
        "b.shape"
      ],
      "metadata": {
        "colab": {
          "base_uri": "https://localhost:8080/"
        },
        "id": "RPeE7Cs9BT8k",
        "outputId": "32221198-da42-4a48-dfec-3c94ec993e9d"
      },
      "execution_count": 28,
      "outputs": [
        {
          "output_type": "execute_result",
          "data": {
            "text/plain": [
              "(3, 3)"
            ]
          },
          "metadata": {},
          "execution_count": 28
        }
      ]
    },
    {
      "cell_type": "markdown",
      "source": [
        "## 3"
      ],
      "metadata": {
        "id": "oWASx2HrBVti"
      }
    },
    {
      "cell_type": "code",
      "source": [
        "a= np.array([1,2,3,4])\n",
        "b= np.array([10,20,30,40])"
      ],
      "metadata": {
        "id": "fP3vEi3xBWns"
      },
      "execution_count": 29,
      "outputs": []
    },
    {
      "cell_type": "code",
      "source": [
        "a+b"
      ],
      "metadata": {
        "colab": {
          "base_uri": "https://localhost:8080/"
        },
        "id": "nur67zDcBhji",
        "outputId": "27c80b2d-b78d-4dd8-cdc0-98cb5fc8b8b9"
      },
      "execution_count": 30,
      "outputs": [
        {
          "output_type": "execute_result",
          "data": {
            "text/plain": [
              "array([11, 22, 33, 44])"
            ]
          },
          "metadata": {},
          "execution_count": 30
        }
      ]
    },
    {
      "cell_type": "code",
      "source": [
        "a-b"
      ],
      "metadata": {
        "colab": {
          "base_uri": "https://localhost:8080/"
        },
        "id": "OW_QjWpyBjfe",
        "outputId": "2709e6fe-8642-4941-9218-7a64a2b021a1"
      },
      "execution_count": 31,
      "outputs": [
        {
          "output_type": "execute_result",
          "data": {
            "text/plain": [
              "array([ -9, -18, -27, -36])"
            ]
          },
          "metadata": {},
          "execution_count": 31
        }
      ]
    },
    {
      "cell_type": "code",
      "source": [
        "a*b"
      ],
      "metadata": {
        "colab": {
          "base_uri": "https://localhost:8080/"
        },
        "id": "oM6k3b5RBp-w",
        "outputId": "3b88970d-e664-4d5c-e5b3-8bd3b78fa489"
      },
      "execution_count": 32,
      "outputs": [
        {
          "output_type": "execute_result",
          "data": {
            "text/plain": [
              "array([ 10,  40,  90, 160])"
            ]
          },
          "metadata": {},
          "execution_count": 32
        }
      ]
    },
    {
      "cell_type": "markdown",
      "source": [
        "## 4"
      ],
      "metadata": {
        "id": "UQUpec8QBrME"
      }
    },
    {
      "cell_type": "code",
      "source": [
        "a = np.ones([4,4])\n",
        "a"
      ],
      "metadata": {
        "colab": {
          "base_uri": "https://localhost:8080/"
        },
        "id": "OXf0GAaTBscv",
        "outputId": "5a20dc52-b7a7-4833-971e-2e9337a0ecda"
      },
      "execution_count": 37,
      "outputs": [
        {
          "output_type": "execute_result",
          "data": {
            "text/plain": [
              "array([[1., 1., 1., 1.],\n",
              "       [1., 1., 1., 1.],\n",
              "       [1., 1., 1., 1.],\n",
              "       [1., 1., 1., 1.]])"
            ]
          },
          "metadata": {},
          "execution_count": 37
        }
      ]
    },
    {
      "cell_type": "code",
      "source": [
        "b = np.array([1, 2, 3, 4])"
      ],
      "metadata": {
        "id": "bBvhbzYjCA90"
      },
      "execution_count": 38,
      "outputs": []
    },
    {
      "cell_type": "code",
      "source": [
        "c = np.broadcast_to(b, (4,4))\n",
        "c"
      ],
      "metadata": {
        "colab": {
          "base_uri": "https://localhost:8080/"
        },
        "id": "VJMkl_x4CDOl",
        "outputId": "2fac5d4f-52dc-4e77-a621-5967a3af4174"
      },
      "execution_count": 44,
      "outputs": [
        {
          "output_type": "execute_result",
          "data": {
            "text/plain": [
              "array([[1, 2, 3, 4],\n",
              "       [1, 2, 3, 4],\n",
              "       [1, 2, 3, 4],\n",
              "       [1, 2, 3, 4]])"
            ]
          },
          "metadata": {},
          "execution_count": 44
        }
      ]
    },
    {
      "cell_type": "code",
      "source": [
        "c*a"
      ],
      "metadata": {
        "colab": {
          "base_uri": "https://localhost:8080/"
        },
        "id": "hMd7ok1PEgDN",
        "outputId": "416f4a20-c28d-42c7-920d-842dacd26b71"
      },
      "execution_count": 45,
      "outputs": [
        {
          "output_type": "execute_result",
          "data": {
            "text/plain": [
              "array([[1., 2., 3., 4.],\n",
              "       [1., 2., 3., 4.],\n",
              "       [1., 2., 3., 4.],\n",
              "       [1., 2., 3., 4.]])"
            ]
          },
          "metadata": {},
          "execution_count": 45
        }
      ]
    },
    {
      "cell_type": "markdown",
      "source": [
        "## 5"
      ],
      "metadata": {
        "id": "iaLtScIGEiGD"
      }
    },
    {
      "cell_type": "code",
      "source": [
        "a= np.random.randint(100,size=(1,100))\n",
        "a"
      ],
      "metadata": {
        "colab": {
          "base_uri": "https://localhost:8080/"
        },
        "id": "30J3vXOdEjgw",
        "outputId": "3862f55e-9b56-48dc-9cac-3c85e21a6b46"
      },
      "execution_count": 49,
      "outputs": [
        {
          "output_type": "execute_result",
          "data": {
            "text/plain": [
              "array([[59, 39, 98, 25, 38, 39, 52, 92, 53, 84, 75, 12, 40, 34, 38, 84,\n",
              "        56, 93, 26, 44, 87, 62, 86, 43, 87,  1, 16,  9, 96, 69,  5, 35,\n",
              "         2, 38, 97, 77, 16, 42, 67, 98, 26, 62,  1, 34, 22, 12, 12, 68,\n",
              "        67, 99, 98, 94, 79, 45, 92, 68, 45, 30, 19, 99, 56, 44, 12, 53,\n",
              "        95, 29, 60, 83,  0, 95, 72, 46, 69, 10, 68, 95, 60,  7, 94,  4,\n",
              "        44, 73, 89,  5, 99, 43,  4, 41, 42, 43, 68, 92, 25, 53, 86, 27,\n",
              "        87, 70, 14, 58]])"
            ]
          },
          "metadata": {},
          "execution_count": 49
        }
      ]
    },
    {
      "cell_type": "code",
      "source": [
        "a.shape"
      ],
      "metadata": {
        "colab": {
          "base_uri": "https://localhost:8080/"
        },
        "id": "xfZ9yCoAE6l_",
        "outputId": "b7f6999a-c85d-41fc-ee6b-483752cc9dc7"
      },
      "execution_count": 50,
      "outputs": [
        {
          "output_type": "execute_result",
          "data": {
            "text/plain": [
              "(1, 100)"
            ]
          },
          "metadata": {},
          "execution_count": 50
        }
      ]
    },
    {
      "cell_type": "code",
      "source": [
        "np.mean(a)"
      ],
      "metadata": {
        "colab": {
          "base_uri": "https://localhost:8080/"
        },
        "id": "vRQP5rAKGWFc",
        "outputId": "3b39c0aa-fb41-4cdc-9ebb-6731265b5881"
      },
      "execution_count": 51,
      "outputs": [
        {
          "output_type": "execute_result",
          "data": {
            "text/plain": [
              "53.01"
            ]
          },
          "metadata": {},
          "execution_count": 51
        }
      ]
    },
    {
      "cell_type": "code",
      "source": [
        "np.median(a)"
      ],
      "metadata": {
        "colab": {
          "base_uri": "https://localhost:8080/"
        },
        "id": "46ogguq7HT0T",
        "outputId": "587d90d7-97b7-4c45-f166-1600b0d562cd"
      },
      "execution_count": 52,
      "outputs": [
        {
          "output_type": "execute_result",
          "data": {
            "text/plain": [
              "53.0"
            ]
          },
          "metadata": {},
          "execution_count": 52
        }
      ]
    },
    {
      "cell_type": "code",
      "source": [
        "np.std(a)"
      ],
      "metadata": {
        "colab": {
          "base_uri": "https://localhost:8080/"
        },
        "id": "ntyzsTKhHXTg",
        "outputId": "d9efa9e8-76e6-4099-f296-2c4e06f18269"
      },
      "execution_count": 54,
      "outputs": [
        {
          "output_type": "execute_result",
          "data": {
            "text/plain": [
              "30.51933649344297"
            ]
          },
          "metadata": {},
          "execution_count": 54
        }
      ]
    },
    {
      "cell_type": "code",
      "source": [
        "np.var(a)"
      ],
      "metadata": {
        "colab": {
          "base_uri": "https://localhost:8080/"
        },
        "id": "0t9OBZd3HfW6",
        "outputId": "62caf64e-0487-47d0-f798-274387f363f7"
      },
      "execution_count": 55,
      "outputs": [
        {
          "output_type": "execute_result",
          "data": {
            "text/plain": [
              "931.4298999999999"
            ]
          },
          "metadata": {},
          "execution_count": 55
        }
      ]
    },
    {
      "cell_type": "markdown",
      "source": [
        "## 6"
      ],
      "metadata": {
        "id": "HuqtZYwMHwCz"
      }
    },
    {
      "cell_type": "code",
      "source": [
        "a = np.random.randint(1,20,size=(1,20))\n",
        "a"
      ],
      "metadata": {
        "colab": {
          "base_uri": "https://localhost:8080/"
        },
        "id": "D-oj6kzaHxHp",
        "outputId": "12049a2e-42c9-4c70-d50d-01f5ed1c2109"
      },
      "execution_count": 56,
      "outputs": [
        {
          "output_type": "execute_result",
          "data": {
            "text/plain": [
              "array([[14, 12,  8,  2,  4,  8,  4, 15,  3, 10,  7, 15,  7,  3,  6, 17,\n",
              "        15, 10,  3,  4]])"
            ]
          },
          "metadata": {},
          "execution_count": 56
        }
      ]
    },
    {
      "cell_type": "code",
      "source": [
        "a[a%2==0]"
      ],
      "metadata": {
        "colab": {
          "base_uri": "https://localhost:8080/"
        },
        "id": "SzBy9GfyITYB",
        "outputId": "c69c59a2-679f-4f79-b41e-98ab34b20e9e"
      },
      "execution_count": 58,
      "outputs": [
        {
          "output_type": "execute_result",
          "data": {
            "text/plain": [
              "array([14, 12,  8,  2,  4,  8,  4, 10,  6, 10,  4])"
            ]
          },
          "metadata": {},
          "execution_count": 58
        }
      ]
    },
    {
      "cell_type": "markdown",
      "source": [
        "## 7"
      ],
      "metadata": {
        "id": "FY9WM9sGI-wg"
      }
    },
    {
      "cell_type": "code",
      "source": [
        "a = np.random.randint(10,size=(1,10))\n",
        "a"
      ],
      "metadata": {
        "colab": {
          "base_uri": "https://localhost:8080/"
        },
        "id": "t9OL_TnMJAzu",
        "outputId": "85df308a-f6ea-4eb1-b82e-165e5a0c6334"
      },
      "execution_count": 62,
      "outputs": [
        {
          "output_type": "execute_result",
          "data": {
            "text/plain": [
              "array([[6, 9, 3, 5, 3, 4, 1, 9, 8, 8]])"
            ]
          },
          "metadata": {},
          "execution_count": 62
        }
      ]
    },
    {
      "cell_type": "code",
      "source": [
        "a[0,5]=99\n",
        "a"
      ],
      "metadata": {
        "colab": {
          "base_uri": "https://localhost:8080/"
        },
        "id": "aeyr4t8DJJQq",
        "outputId": "b36df43a-66b3-4109-8bf0-3526f1cf84ec"
      },
      "execution_count": 65,
      "outputs": [
        {
          "output_type": "execute_result",
          "data": {
            "text/plain": [
              "array([[ 6,  9,  3,  5,  3, 99,  1,  9,  8,  8]])"
            ]
          },
          "metadata": {},
          "execution_count": 65
        }
      ]
    },
    {
      "cell_type": "code",
      "source": [
        "np.delete(a,3)"
      ],
      "metadata": {
        "colab": {
          "base_uri": "https://localhost:8080/"
        },
        "id": "1KQr1wchK4gE",
        "outputId": "f0e1e5ce-435d-4e9e-e43e-344210443a40"
      },
      "execution_count": 67,
      "outputs": [
        {
          "output_type": "execute_result",
          "data": {
            "text/plain": [
              "array([ 6,  9,  3,  3, 99,  1,  9,  8,  8])"
            ]
          },
          "metadata": {},
          "execution_count": 67
        }
      ]
    },
    {
      "cell_type": "markdown",
      "source": [
        "## 8"
      ],
      "metadata": {
        "id": "6HQV3JNJKzpY"
      }
    },
    {
      "cell_type": "code",
      "source": [
        "a=np.random.randint(100,size=(3,3))\n",
        "a\n",
        "b = np.random.randint(100,size=(3,3))\n",
        "b"
      ],
      "metadata": {
        "colab": {
          "base_uri": "https://localhost:8080/"
        },
        "id": "ENEoY0rULRW_",
        "outputId": "3e5a69d8-a84b-42c4-a036-0350e220a39c"
      },
      "execution_count": 71,
      "outputs": [
        {
          "output_type": "execute_result",
          "data": {
            "text/plain": [
              "array([[22, 51, 59],\n",
              "       [64,  4, 41],\n",
              "       [86, 53, 40]])"
            ]
          },
          "metadata": {},
          "execution_count": 71
        }
      ]
    },
    {
      "cell_type": "code",
      "source": [
        "a@b"
      ],
      "metadata": {
        "colab": {
          "base_uri": "https://localhost:8080/"
        },
        "id": "Dyx37TzQLzdM",
        "outputId": "acba8a0f-bad9-4a32-aea2-122e23268ec6"
      },
      "execution_count": 72,
      "outputs": [
        {
          "output_type": "execute_result",
          "data": {
            "text/plain": [
              "array([[10450,  5061,  7541],\n",
              "       [ 4296,  2452,  4728],\n",
              "       [ 9076,  4394,  7997]])"
            ]
          },
          "metadata": {},
          "execution_count": 72
        }
      ]
    },
    {
      "cell_type": "code",
      "source": [
        "np.dot(a,b)"
      ],
      "metadata": {
        "colab": {
          "base_uri": "https://localhost:8080/"
        },
        "id": "PRKnUjOMMigF",
        "outputId": "1c290090-562f-4eaa-ea17-eaeaaec2589d"
      },
      "execution_count": 73,
      "outputs": [
        {
          "output_type": "execute_result",
          "data": {
            "text/plain": [
              "array([[10450,  5061,  7541],\n",
              "       [ 4296,  2452,  4728],\n",
              "       [ 9076,  4394,  7997]])"
            ]
          },
          "metadata": {},
          "execution_count": 73
        }
      ]
    },
    {
      "cell_type": "markdown",
      "source": [
        "## 9"
      ],
      "metadata": {
        "id": "0yBwEPWrM3w1"
      }
    },
    {
      "cell_type": "code",
      "source": [
        "a = np.random.randint(10,size=(5,5))\n",
        "a"
      ],
      "metadata": {
        "colab": {
          "base_uri": "https://localhost:8080/"
        },
        "id": "fR63HGJ_Mncf",
        "outputId": "a8ddbff3-ba18-4071-d339-551b62b7928b"
      },
      "execution_count": 74,
      "outputs": [
        {
          "output_type": "execute_result",
          "data": {
            "text/plain": [
              "array([[4, 5, 9, 4, 6],\n",
              "       [8, 3, 7, 8, 7],\n",
              "       [4, 9, 9, 3, 7],\n",
              "       [2, 0, 7, 1, 5],\n",
              "       [4, 3, 9, 9, 3]])"
            ]
          },
          "metadata": {},
          "execution_count": 74
        }
      ]
    },
    {
      "cell_type": "code",
      "source": [
        "a.sum()"
      ],
      "metadata": {
        "colab": {
          "base_uri": "https://localhost:8080/"
        },
        "id": "6QUitnfVNFJy",
        "outputId": "1fe8e6c5-ef72-4344-edc8-84df8d99fef7"
      },
      "execution_count": 77,
      "outputs": [
        {
          "output_type": "execute_result",
          "data": {
            "text/plain": [
              "136"
            ]
          },
          "metadata": {},
          "execution_count": 77
        }
      ]
    },
    {
      "cell_type": "code",
      "source": [
        "a.sum(axis=0)"
      ],
      "metadata": {
        "colab": {
          "base_uri": "https://localhost:8080/"
        },
        "id": "Y87nBRbcM-gP",
        "outputId": "96936be5-5c7d-4696-8c36-b6a598853b6a"
      },
      "execution_count": 76,
      "outputs": [
        {
          "output_type": "execute_result",
          "data": {
            "text/plain": [
              "array([22, 20, 41, 25, 28])"
            ]
          },
          "metadata": {},
          "execution_count": 76
        }
      ]
    },
    {
      "cell_type": "code",
      "source": [
        "a.sum(axis=1)"
      ],
      "metadata": {
        "colab": {
          "base_uri": "https://localhost:8080/"
        },
        "id": "Nn34IV7nNHEe",
        "outputId": "ae0a0172-5f32-4b05-e382-9aecd68b71d2"
      },
      "execution_count": 78,
      "outputs": [
        {
          "output_type": "execute_result",
          "data": {
            "text/plain": [
              "array([28, 33, 32, 15, 28])"
            ]
          },
          "metadata": {},
          "execution_count": 78
        }
      ]
    },
    {
      "cell_type": "markdown",
      "source": [
        "## 10"
      ],
      "metadata": {
        "id": "8rrQ_6PCNMao"
      }
    },
    {
      "cell_type": "code",
      "source": [
        "a = np.random.randint(10,size=(3,3))\n",
        "a"
      ],
      "metadata": {
        "colab": {
          "base_uri": "https://localhost:8080/"
        },
        "id": "oaeGXawhNNw9",
        "outputId": "b4fc749a-dbd1-4348-db96-46a012aee993"
      },
      "execution_count": 79,
      "outputs": [
        {
          "output_type": "execute_result",
          "data": {
            "text/plain": [
              "array([[9, 2, 2],\n",
              "       [8, 7, 2],\n",
              "       [1, 8, 8]])"
            ]
          },
          "metadata": {},
          "execution_count": 79
        }
      ]
    },
    {
      "cell_type": "code",
      "source": [
        "np.linalg.det(a)"
      ],
      "metadata": {
        "colab": {
          "base_uri": "https://localhost:8080/"
        },
        "id": "CWGGTvM9NV93",
        "outputId": "a3b7fddc-b64b-4a0f-e877-50502d677859"
      },
      "execution_count": 82,
      "outputs": [
        {
          "output_type": "execute_result",
          "data": {
            "text/plain": [
              "350.00000000000017"
            ]
          },
          "metadata": {},
          "execution_count": 82
        }
      ]
    },
    {
      "cell_type": "code",
      "source": [
        "np.linalg.eigvals(a)"
      ],
      "metadata": {
        "colab": {
          "base_uri": "https://localhost:8080/"
        },
        "id": "2ugW7ZDuN9X6",
        "outputId": "6bf85986-3a33-4d40-d65a-29f0f7e1d120"
      },
      "execution_count": 84,
      "outputs": [
        {
          "output_type": "execute_result",
          "data": {
            "text/plain": [
              "array([15.17291884+0.j        ,  4.41354058+1.89422109j,\n",
              "        4.41354058-1.89422109j])"
            ]
          },
          "metadata": {},
          "execution_count": 84
        }
      ]
    },
    {
      "cell_type": "code",
      "source": [
        "np.linalg.inv(a)"
      ],
      "metadata": {
        "colab": {
          "base_uri": "https://localhost:8080/"
        },
        "id": "T6-Z80CoPCUG",
        "outputId": "b1cb7001-4b22-4f13-fc6b-5eaf1982f1c3"
      },
      "execution_count": 85,
      "outputs": [
        {
          "output_type": "execute_result",
          "data": {
            "text/plain": [
              "array([[ 1.14285714e-01, -6.16790569e-18, -2.85714286e-02],\n",
              "       [-1.77142857e-01,  2.00000000e-01, -5.71428571e-03],\n",
              "       [ 1.62857143e-01, -2.00000000e-01,  1.34285714e-01]])"
            ]
          },
          "metadata": {},
          "execution_count": 85
        }
      ]
    },
    {
      "cell_type": "markdown",
      "source": [
        "inverse(A) = adj(A)/det(A)"
      ],
      "metadata": {
        "id": "uLXBZJYpP5Lj"
      }
    }
  ]
}